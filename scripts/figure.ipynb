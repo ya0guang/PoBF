{
 "cells": [
  {
   "attachments": {},
   "cell_type": "markdown",
   "metadata": {},
   "source": [
    "# Figure for Polybench"
   ]
  },
  {
   "cell_type": "code",
   "execution_count": 103,
   "metadata": {},
   "outputs": [],
   "source": [
    "import re\n",
    "\n",
    "\n",
    "def process_time(time):\n",
    "    res = 0\n",
    "    time = time.split('m')\n",
    "\n",
    "    if len(time) != 1:\n",
    "        res += float(time[0]) * 60000\n",
    "    time = time[-1]\n",
    "\n",
    "    if 'ms' in time:\n",
    "        time = float(re.sub(r'ms.*\\n', '', time))\n",
    "        res += time\n",
    "    elif 'ns' in time:\n",
    "        time = float(re.sub(r'ns.*\\n', '', time)) * 1e-6\n",
    "        res += time\n",
    "    elif 's' in time:\n",
    "        time = float(re.sub(r's.*\\n', '', time)) * 1000\n",
    "        res += time\n",
    "\n",
    "    return res\n",
    "\n",
    "\n",
    "def extract_elapsed_ms(file, type):\n",
    "    ans = []\n",
    "    init_time = 0\n",
    "    with open(file, \"r\", encoding=\"utf-8\", errors=\"ignore\") as file:\n",
    "        for line in file:\n",
    "            if (\"time\" in line or \"Time\" in line or \"Elapsed\" in line) and 'time...' not in line and '...' not in line:\n",
    "                splitted = line.split(\" \")\n",
    "                time = splitted[-1]\n",
    "\n",
    "                ans.append(process_time(time))\n",
    "            elif ('initialization takes' in line or 'Initialization takes' in line) and type == 'mt':\n",
    "                splitted = line.split(' ')\n",
    "                time = splitted[-1]\n",
    "                init_time = process_time(time)\n",
    "                ans.append(init_time)\n",
    "            # Calculate real time.\n",
    "            elif 'real' in line and type == 'mt':\n",
    "                splitted = line.split('\\t')\n",
    "                time = splitted[-1]\n",
    "                time = process_time(time)\n",
    "                ans.append(time)\n",
    "\n",
    "    if ans == []:\n",
    "        raise Exception(\"Could not find time in file\")\n",
    "    else:\n",
    "        return ans\n"
   ]
  },
  {
   "cell_type": "code",
   "execution_count": 2,
   "metadata": {},
   "outputs": [],
   "source": [
    "# def extract(file, task_identifier):\n",
    "#     for line in open(file, \"r\"):\n",
    "#         if task_identifier in line:\n",
    "#             return int(line.split(\" \")[-2])\n",
    "\n",
    "#     raise Exception(\"Could not find %s in file\", task_identifier)\n"
   ]
  },
  {
   "cell_type": "code",
   "execution_count": 3,
   "metadata": {},
   "outputs": [],
   "source": [
    "import os\n",
    "\n",
    "\n",
    "def polypench_analyze(focused):\n",
    "    result = {}\n",
    "    path = \"../data/task_polybench/\"\n",
    "    for dirname, subdirlist, filelist in os.walk(path):\n",
    "        if dirname == path:\n",
    "            for dir in subdirlist:\n",
    "                result[dir] = []\n",
    "            continue\n",
    "\n",
    "        # skip root directory is skipped\n",
    "        for fname in filelist:\n",
    "            subtask = os.path.basename(os.path.normpath(dirname))\n",
    "            if focused in fname:\n",
    "                data = extract_elapsed_ms(dirname + \"/\" + fname)\n",
    "                result[subtask].extend(data)\n",
    "\n",
    "    return result\n"
   ]
  },
  {
   "cell_type": "code",
   "execution_count": 4,
   "metadata": {},
   "outputs": [
    {
     "ename": "KeyError",
     "evalue": "'overhead'",
     "output_type": "error",
     "traceback": [
      "\u001b[0;31m---------------------------------------------------------------------------\u001b[0m",
      "\u001b[0;31mKeyError\u001b[0m                                  Traceback (most recent call last)",
      "File \u001b[0;32m~/.local/lib/python3.8/site-packages/pandas/core/indexes/base.py:3802\u001b[0m, in \u001b[0;36mIndex.get_loc\u001b[0;34m(self, key, method, tolerance)\u001b[0m\n\u001b[1;32m   3801\u001b[0m \u001b[39mtry\u001b[39;00m:\n\u001b[0;32m-> 3802\u001b[0m     \u001b[39mreturn\u001b[39;00m \u001b[39mself\u001b[39;49m\u001b[39m.\u001b[39;49m_engine\u001b[39m.\u001b[39;49mget_loc(casted_key)\n\u001b[1;32m   3803\u001b[0m \u001b[39mexcept\u001b[39;00m \u001b[39mKeyError\u001b[39;00m \u001b[39mas\u001b[39;00m err:\n",
      "File \u001b[0;32m~/.local/lib/python3.8/site-packages/pandas/_libs/index.pyx:138\u001b[0m, in \u001b[0;36mpandas._libs.index.IndexEngine.get_loc\u001b[0;34m()\u001b[0m\n",
      "File \u001b[0;32m~/.local/lib/python3.8/site-packages/pandas/_libs/index.pyx:165\u001b[0m, in \u001b[0;36mpandas._libs.index.IndexEngine.get_loc\u001b[0;34m()\u001b[0m\n",
      "File \u001b[0;32mpandas/_libs/hashtable_class_helper.pxi:5745\u001b[0m, in \u001b[0;36mpandas._libs.hashtable.PyObjectHashTable.get_item\u001b[0;34m()\u001b[0m\n",
      "File \u001b[0;32mpandas/_libs/hashtable_class_helper.pxi:5753\u001b[0m, in \u001b[0;36mpandas._libs.hashtable.PyObjectHashTable.get_item\u001b[0;34m()\u001b[0m\n",
      "\u001b[0;31mKeyError\u001b[0m: 'overhead'",
      "\nThe above exception was the direct cause of the following exception:\n",
      "\u001b[0;31mKeyError\u001b[0m                                  Traceback (most recent call last)",
      "Cell \u001b[0;32mIn[4], line 27\u001b[0m\n\u001b[1;32m     23\u001b[0m \u001b[39mfor\u001b[39;00m i \u001b[39min\u001b[39;00m poly\u001b[39m.\u001b[39mindex:\n\u001b[1;32m     24\u001b[0m     poly\u001b[39m.\u001b[39mloc[i, \u001b[39m\"\u001b[39m\u001b[39moverhead\u001b[39m\u001b[39m\"\u001b[39m] \u001b[39m=\u001b[39m (\n\u001b[1;32m     25\u001b[0m         (poly\u001b[39m.\u001b[39mloc[i, \u001b[39m\"\u001b[39m\u001b[39mpobf\u001b[39m\u001b[39m\"\u001b[39m] \u001b[39m/\u001b[39m poly\u001b[39m.\u001b[39mloc[i, \u001b[39m\"\u001b[39m\u001b[39mnative\u001b[39m\u001b[39m\"\u001b[39m]) \u001b[39m-\u001b[39m \u001b[39m1\u001b[39m) \u001b[39m*\u001b[39m \u001b[39m100\u001b[39m\n\u001b[0;32m---> 27\u001b[0m np\u001b[39m.\u001b[39maverage(poly[\u001b[39m\"\u001b[39;49m\u001b[39moverhead\u001b[39;49m\u001b[39m\"\u001b[39;49m])\n",
      "File \u001b[0;32m~/.local/lib/python3.8/site-packages/pandas/core/frame.py:3807\u001b[0m, in \u001b[0;36mDataFrame.__getitem__\u001b[0;34m(self, key)\u001b[0m\n\u001b[1;32m   3805\u001b[0m \u001b[39mif\u001b[39;00m \u001b[39mself\u001b[39m\u001b[39m.\u001b[39mcolumns\u001b[39m.\u001b[39mnlevels \u001b[39m>\u001b[39m \u001b[39m1\u001b[39m:\n\u001b[1;32m   3806\u001b[0m     \u001b[39mreturn\u001b[39;00m \u001b[39mself\u001b[39m\u001b[39m.\u001b[39m_getitem_multilevel(key)\n\u001b[0;32m-> 3807\u001b[0m indexer \u001b[39m=\u001b[39m \u001b[39mself\u001b[39;49m\u001b[39m.\u001b[39;49mcolumns\u001b[39m.\u001b[39;49mget_loc(key)\n\u001b[1;32m   3808\u001b[0m \u001b[39mif\u001b[39;00m is_integer(indexer):\n\u001b[1;32m   3809\u001b[0m     indexer \u001b[39m=\u001b[39m [indexer]\n",
      "File \u001b[0;32m~/.local/lib/python3.8/site-packages/pandas/core/indexes/base.py:3804\u001b[0m, in \u001b[0;36mIndex.get_loc\u001b[0;34m(self, key, method, tolerance)\u001b[0m\n\u001b[1;32m   3802\u001b[0m     \u001b[39mreturn\u001b[39;00m \u001b[39mself\u001b[39m\u001b[39m.\u001b[39m_engine\u001b[39m.\u001b[39mget_loc(casted_key)\n\u001b[1;32m   3803\u001b[0m \u001b[39mexcept\u001b[39;00m \u001b[39mKeyError\u001b[39;00m \u001b[39mas\u001b[39;00m err:\n\u001b[0;32m-> 3804\u001b[0m     \u001b[39mraise\u001b[39;00m \u001b[39mKeyError\u001b[39;00m(key) \u001b[39mfrom\u001b[39;00m \u001b[39merr\u001b[39;00m\n\u001b[1;32m   3805\u001b[0m \u001b[39mexcept\u001b[39;00m \u001b[39mTypeError\u001b[39;00m:\n\u001b[1;32m   3806\u001b[0m     \u001b[39m# If we have a listlike key, _check_indexing_error will raise\u001b[39;00m\n\u001b[1;32m   3807\u001b[0m     \u001b[39m#  InvalidIndexError. Otherwise we fall through and re-raise\u001b[39;00m\n\u001b[1;32m   3808\u001b[0m     \u001b[39m#  the TypeError.\u001b[39;00m\n\u001b[1;32m   3809\u001b[0m     \u001b[39mself\u001b[39m\u001b[39m.\u001b[39m_check_indexing_error(key)\n",
      "\u001b[0;31mKeyError\u001b[0m: 'overhead'"
     ]
    }
   ],
   "source": [
    "import matplotlib.pyplot as plt\n",
    "import pandas as pd\n",
    "import seaborn as sns\n",
    "import numpy as np\n",
    "\n",
    "poly_native = polypench_analyze(\"enclave_native\")\n",
    "poly_native = pd.DataFrame(poly_native)\n",
    "poly_native = poly_native.transpose()\n",
    "\n",
    "poly_pobf = polypench_analyze(\"enclave_pobf\")\n",
    "poly_pobf = pd.DataFrame(poly_pobf)\n",
    "poly_pobf = poly_pobf.transpose()\n",
    "\n",
    "poly = {}\n",
    "poly[\"native\"] = {}\n",
    "poly[\"pobf\"] = {}\n",
    "\n",
    "for i in poly_native.index:\n",
    "    poly[\"native\"][i] = np.average(poly_native.loc[i])\n",
    "    poly[\"pobf\"][i] = np.average(poly_pobf.loc[i])\n",
    "\n",
    "poly = pd.DataFrame(poly)\n",
    "for i in poly.index:\n",
    "    poly.loc[i, \"overhead\"] = (\n",
    "        (poly.loc[i, \"pobf\"] / poly.loc[i, \"native\"]) - 1) * 100\n",
    "\n",
    "np.average(poly[\"overhead\"])\n"
   ]
  },
  {
   "cell_type": "code",
   "execution_count": null,
   "metadata": {},
   "outputs": [],
   "source": [
    "sns.set(style=\"whitegrid\")\n",
    "xs = []\n",
    "ys = []\n",
    "hue = []\n",
    "overhead = []\n",
    "for i in poly.index:\n",
    "    xs.append(i)\n",
    "    xs.append(i)\n",
    "    ys.append(poly[\"native\"][i])\n",
    "    ys.append(poly[\"pobf\"][i])\n",
    "    hue.append(\"Native\")\n",
    "    hue.append(\"PoCF\")\n",
    "\n",
    "assert (len(xs) == len(ys))\n",
    "g = sns.barplot(x=xs, y=ys, hue=hue)\n",
    "# g.set_yscale(\"log\")\n",
    "g.set_xticklabels(g.get_xticklabels(), rotation=90)\n",
    "\n",
    "overhead_precentage = \"  \" + poly[\"overhead\"].round(1).astype(str)\n",
    "\n",
    "g.bar_label(g.containers[0], labels=overhead_precentage, fontsize=7, padding=3)\n",
    "g.set_ylabel(\"Time (ms)\", fontsize=12)\n",
    "plt.savefig(\"../polybench.pdf\", bbox_inches='tight')\n"
   ]
  },
  {
   "cell_type": "code",
   "execution_count": null,
   "metadata": {},
   "outputs": [],
   "source": [
    "poly.overhead.mean()\n"
   ]
  },
  {
   "attachments": {},
   "cell_type": "markdown",
   "metadata": {},
   "source": [
    "# Figure for Identity Function"
   ]
  },
  {
   "cell_type": "code",
   "execution_count": 5,
   "metadata": {},
   "outputs": [],
   "source": [
    "def identity_analyze(focused):\n",
    "    result = []\n",
    "    path = \"../data/task_sample/\"\n",
    "    for dirname, subdirlist, filelist in os.walk(path):\n",
    "        if dirname != path:\n",
    "            break\n",
    "        for f in filelist:\n",
    "            if focused in f:\n",
    "                result.extend(extract_elapsed_ms(path + f,))\n",
    "    return result\n"
   ]
  },
  {
   "cell_type": "code",
   "execution_count": 6,
   "metadata": {},
   "outputs": [
    {
     "ename": "AssertionError",
     "evalue": "",
     "output_type": "error",
     "traceback": [
      "\u001b[0;31m---------------------------------------------------------------------------\u001b[0m",
      "\u001b[0;31mAssertionError\u001b[0m                            Traceback (most recent call last)",
      "Cell \u001b[0;32mIn[6], line 11\u001b[0m\n\u001b[1;32m      9\u001b[0m         file_partial_name \u001b[39m=\u001b[39m size_str \u001b[39m+\u001b[39m \u001b[39m\"\u001b[39m\u001b[39moutput_enclave_\u001b[39m\u001b[39m\"\u001b[39m \u001b[39m+\u001b[39m \u001b[39mid\u001b[39m \u001b[39m+\u001b[39m \u001b[39m\"\u001b[39m\u001b[39m.txt\u001b[39m\u001b[39m\"\u001b[39m\n\u001b[1;32m     10\u001b[0m         data \u001b[39m=\u001b[39m identity_analyze(file_partial_name)\n\u001b[0;32m---> 11\u001b[0m         \u001b[39massert\u001b[39;00m (\u001b[39mlen\u001b[39m(data) \u001b[39m==\u001b[39m \u001b[39m10\u001b[39m)\n\u001b[1;32m     12\u001b[0m         identity[\u001b[39mid\u001b[39m][size_str] \u001b[39m=\u001b[39m np\u001b[39m.\u001b[39maverage(data)\n\u001b[1;32m     14\u001b[0m identity \u001b[39m=\u001b[39m pd\u001b[39m.\u001b[39mDataFrame(identity)\n",
      "\u001b[0;31mAssertionError\u001b[0m: "
     ]
    }
   ],
   "source": [
    "datasizes = {\"1kb\": 1000, \"10kb\": 10000, \"100kb\": 100000,\n",
    "             \"1mb\": 1000000, \"10mb\": 10000000, \"100mb\": 100000000}\n",
    "\n",
    "identifiers = [\"native\", \"pobf\"]\n",
    "identity = {id: {} for id in identifiers}\n",
    "\n",
    "for size_str in datasizes:\n",
    "    for id in identifiers:\n",
    "        file_partial_name = size_str + \"output_enclave_\" + id + \".txt\"\n",
    "        data = identity_analyze(file_partial_name)\n",
    "        assert (len(data) == 10)\n",
    "        identity[id][size_str] = np.average(data)\n",
    "\n",
    "identity = pd.DataFrame(identity)\n",
    "for i in identity.index:\n",
    "    identity.loc[i, \"overhead\"] = (\n",
    "        (identity.loc[i, \"pobf\"] / identity.loc[i, \"native\"]) - 1) * 100\n",
    "\n",
    "identity.round(3).transpose()\n"
   ]
  },
  {
   "cell_type": "code",
   "execution_count": null,
   "metadata": {},
   "outputs": [],
   "source": [
    "sns.set(style=\"whitegrid\")\n",
    "xs = []\n",
    "ys = []\n",
    "hue = []\n",
    "overhead = []\n",
    "for i in identity.index:\n",
    "    xs.append(i)\n",
    "    xs.append(i)\n",
    "    ys.append(identity[\"native\"][i])\n",
    "    ys.append(identity[\"pobf\"][i])\n",
    "    hue.append(\"Native\")\n",
    "    hue.append(\"PoCF\")\n",
    "\n",
    "assert (len(xs) == len(ys))\n",
    "g = sns.lineplot(x=xs, y=ys, hue=hue, markers=True)\n",
    "g.set_yscale(\"log\")\n",
    "g.set_xticklabels(g.get_xticklabels(), rotation=90)\n",
    "\n",
    "overhead_precentage = \" \" + identity[\"overhead\"].round(1).astype(str)\n",
    "\n",
    "# g.bar_label(g.containers[0], labels = overhead_precentage, fontsize=7, padding=3)\n",
    "g.set_ylabel(\"Time (ms)\", fontsize=12)\n",
    "plt.savefig(\"../polybench.pdf\", bbox_inches='tight')\n"
   ]
  },
  {
   "attachments": {},
   "cell_type": "markdown",
   "metadata": {},
   "source": [
    "# Figure for Macrobenchmarks"
   ]
  },
  {
   "cell_type": "code",
   "execution_count": 111,
   "metadata": {},
   "outputs": [],
   "source": [
    "import os\n",
    "\n",
    "# Analyze single-threaded macrobenchmarks.\n",
    "\n",
    "\n",
    "def analyze_macrobenchmarks(focused, type, pos=-1):\n",
    "    result = {}\n",
    "    throughput = {}\n",
    "    # Tasks.\n",
    "    tasks = [\"task_tvm\", \"task_fasta\"]\n",
    "\n",
    "    for task in tasks:\n",
    "        path = \"../data/\" + task + \"/\"\n",
    "        result[task] = []\n",
    "        for dirname, subdirlist, filelist in os.walk(path):\n",
    "            for fname in filelist:\n",
    "                if focused in fname:\n",
    "                    if (type == 'st' and 'mt_' not in fname) or (type == 'mt' and 'mt_' in fname):\n",
    "                        data = extract_elapsed_ms(dirname + \"/\" + fname, type)\n",
    "                        if type == 'st':\n",
    "                            result[task].extend(data)\n",
    "                        elif type == 'mt':\n",
    "                            result[task].append(data)\n",
    "\n",
    "        # Calculate throughput for multithreaded programs.\n",
    "        if type == 'mt':\n",
    "            # 2 stands for init + real.\n",
    "            # [init_time, xxx, xxx, real_time] or [xxx, xxx, real_time, init_time]\n",
    "            requests = len(result[task][0]) - 2\n",
    "            test_suites = len(result[task])\n",
    "            real_time = 0\n",
    "\n",
    "            print(\"task:\", task, result[task])\n",
    "            for test in result[task]:\n",
    "                real_time += abs(test[pos] - test[-1])\n",
    "                print(test[pos], test[-1])\n",
    "            real_time /= test_suites\n",
    "            throughput[task] = []\n",
    "            throughput[task].append(requests / real_time)\n",
    "\n",
    "        result[task] = np.average(result[task])\n",
    "\n",
    "    return result, throughput\n"
   ]
  },
  {
   "attachments": {},
   "cell_type": "markdown",
   "metadata": {},
   "source": [
    "## Plot single-threaded"
   ]
  },
  {
   "cell_type": "code",
   "execution_count": 88,
   "metadata": {},
   "outputs": [
    {
     "data": {
      "image/png": "[encoded data removed]",
      "text/plain": [
       "<Figure size 640x480 with 1 Axes>"
      ]
     },
     "metadata": {},
     "output_type": "display_data"
    }
   ],
   "source": [
    "import matplotlib.pyplot as plt\n",
    "import pandas as pd\n",
    "import seaborn as sns\n",
    "import numpy as np\n",
    "\n",
    "platforms = ['rust', 'native', 'pobf', 'occlum', 'gramine', 'enarx']\n",
    "\n",
    "ys = []\n",
    "for platform in platforms:\n",
    "    cur, _ = analyze_macrobenchmarks('data_provider_' + platform, 'st')\n",
    "    for k, v in cur.items():\n",
    "        ys.append(v)\n",
    "\n",
    "sns.set(style='whitegrid')\n",
    "xs = []\n",
    "for element in ['Baremetal', 'Native', 'PoCF', 'Occlum', 'Gramine', 'Enarx']:\n",
    "    xs.extend([element] * 2)\n",
    "hue = ['TVM-ResNet152', 'FASTA'] * 6\n",
    "\n",
    "g = sns.barplot(x=xs, y=ys, hue=hue)\n",
    "g.set_ylabel('Time (ms)', fontsize=12)\n",
    "g.set_xlabel('Tasks', fontsize=12)\n",
    "plt.savefig(\"../macrobenchmarks_st.pdf\", bbox_inches='tight')\n"
   ]
  },
  {
   "attachments": {},
   "cell_type": "markdown",
   "metadata": {},
   "source": [
    "## Plot multi-threaded"
   ]
  },
  {
   "cell_type": "code",
   "execution_count": 116,
   "metadata": {},
   "outputs": [
    {
     "name": "stdout",
     "output_type": "stream",
     "text": [
      "task: task_tvm [[1886.95588, 1919.71776, 2033.0, 3.86787]]\n",
      "2033.0 3.86787\n",
      "task: task_fasta [[2437.735188, 2433.1319790000002, 2434.911481, 2438.1219380000002, 2433.964138, 2434.626936, 2444.2320330000002, 2446.248105, 2579.0, 3.785266]]\n",
      "2579.0 3.785266\n",
      "task: task_tvm [[38314.299484, 19359.558702000002, 19367.835719, 58534.0]]\n",
      "38314.299484 58534.0\n",
      "task: task_fasta [[37407.344115, 5479.147753, 5587.2439079999995, 5750.859524, 5929.11588, 6082.229131, 6249.676369000001, 6437.0767129999995, 6456.72642, 45200.0]]\n",
      "37407.344115 45200.0\n",
      "task: task_tvm [[38703.326295, 19437.734145, 19440.51182, 59009.0]]\n",
      "38703.326295 59009.0\n",
      "task: task_fasta [[36699.95233, 5560.160586, 5656.352861, 5684.315683000001, 5894.43718, 6080.610962, 6210.131104, 6357.6375450000005, 6397.555575, 44625.0]]\n",
      "36699.95233 44625.0\n",
      "task: task_tvm [[22055.230685000002, 27396.629765, 73054.0, 44082.955106999994]]\n",
      "73054.0 44082.955106999994\n",
      "task: task_fasta [[2334.469235, 2461.304882, 2385.199583, 2508.640397, 2517.0235500000003, 2519.949973, 2527.529645, 2527.2257489999997, 46306.0, 40076.317888]]\n",
      "46306.0 40076.317888\n",
      "task: task_tvm [[27520.0, 27920.0, 44139.0, 14029.752712000001]]\n",
      "44139.0 14029.752712000001\n",
      "task: task_fasta [[3910.0, 3740.0, 3910.0, 3650.0, 3510.0, 3310.0, 3590.0, 2930.0, 23726.0, 10023.992992]]\n",
      "23726.0 10023.992992\n"
     ]
    },
    {
     "data": {
      "image/png": "[encoded data removed]",
      "text/plain": [
       "<Figure size 640x480 with 1 Axes>"
      ]
     },
     "metadata": {},
     "output_type": "display_data"
    }
   ],
   "source": [
    "import matplotlib.pyplot as plt\n",
    "import pandas as pd\n",
    "import seaborn as sns\n",
    "import numpy as np\n",
    "\n",
    "platforms = ['rust', 'native', 'pobf', 'occlum', 'gramine']\n",
    "\n",
    "ys = []\n",
    "for platform in platforms:\n",
    "    pos = -2\n",
    "    if platform == 'pobf' or platform == 'native':\n",
    "          pos = 0\n",
    "    _, trpt = analyze_macrobenchmarks('output_enclave_' + platform, 'mt', pos=pos)\n",
    "    for k,v in trpt.items():\n",
    "        ys.append(v[0])\n",
    "sns.set(style='whitegrid')\n",
    "xs = []\n",
    "for element in ['Baremetal', 'Native', 'PoCF', 'Occlum', 'Gramine']:\n",
    "    xs.extend([element] * 2)\n",
    "hue = ['TVM-ResNet152', 'FASTA'] * 5\n",
    "\n",
    "g = sns.barplot(x=xs, y=np.log10(ys), hue=hue)\n",
    "g.set_ylabel('Throughput (RPS) in log scale (10)', fontsize=12)\n",
    "\n",
    "g.set_xlabel('Tasks', fontsize=12)\n",
    "plt.savefig(\"../macrobenchmarks_mt.pdf\", bbox_inches='tight')\n"
   ]
  }
 ],
 "metadata": {
  "kernelspec": {
   "display_name": "Python 3",
   "language": "python",
   "name": "python3"
  },
  "language_info": {
   "codemirror_mode": {
    "name": "ipython",
    "version": 3
   },
   "file_extension": ".py",
   "mimetype": "text/x-python",
   "name": "python",
   "nbconvert_exporter": "python",
   "pygments_lexer": "ipython3",
   "version": "3.8.10"
  },
  "orig_nbformat": 4,
  "vscode": {
   "interpreter": {
    "hash": "31f2aee4e71d21fbe5cf8b01ff0e069b9275f58929596ceb00d14d90e3e16cd6"
   }
  }
 },
 "nbformat": 4,
 "nbformat_minor": 2
}
